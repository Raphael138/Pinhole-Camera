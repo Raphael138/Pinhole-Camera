{
 "cells": [
  {
   "cell_type": "markdown",
   "id": "0fad795d-1bb2-4b03-8190-d3bc7335e202",
   "metadata": {},
   "source": [
    "# Installing Necessary Libraries for this Notebook"
   ]
  },
  {
   "cell_type": "code",
   "execution_count": 106,
   "id": "747a9cae-1658-4347-b8ac-988c109b6a6a",
   "metadata": {},
   "outputs": [
    {
     "name": "stdout",
     "output_type": "stream",
     "text": [
      "Requirement already satisfied: numpy in c:\\users\\thesm\\appdata\\local\\programs\\python\\python311\\lib\\site-packages (1.26.3)\n",
      "Requirement already satisfied: open3d in c:\\users\\thesm\\appdata\\local\\programs\\python\\python311\\lib\\site-packages (0.18.0)\n",
      "Requirement already satisfied: matplotlib in c:\\users\\thesm\\appdata\\local\\programs\\python\\python311\\lib\\site-packages (3.8.2)\n",
      "Requirement already satisfied: jupyter in c:\\users\\thesm\\appdata\\local\\programs\\python\\python311\\lib\\site-packages (1.1.1)\n",
      "Requirement already satisfied: imageio[ffmpeg] in c:\\users\\thesm\\appdata\\local\\programs\\python\\python311\\lib\\site-packages (2.36.0)\n",
      "Requirement already satisfied: dash>=2.6.0 in c:\\users\\thesm\\appdata\\local\\programs\\python\\python311\\lib\\site-packages (from open3d) (2.18.1)\n",
      "Requirement already satisfied: werkzeug>=2.2.3 in c:\\users\\thesm\\appdata\\local\\programs\\python\\python311\\lib\\site-packages (from open3d) (2.3.6)\n",
      "Requirement already satisfied: nbformat>=5.7.0 in c:\\users\\thesm\\appdata\\local\\programs\\python\\python311\\lib\\site-packages (from open3d) (5.9.2)\n",
      "Requirement already satisfied: configargparse in c:\\users\\thesm\\appdata\\local\\programs\\python\\python311\\lib\\site-packages (from open3d) (1.7)\n",
      "Requirement already satisfied: ipywidgets>=8.0.4 in c:\\users\\thesm\\appdata\\local\\programs\\python\\python311\\lib\\site-packages (from open3d) (8.1.1)\n",
      "Requirement already satisfied: contourpy>=1.0.1 in c:\\users\\thesm\\appdata\\local\\programs\\python\\python311\\lib\\site-packages (from matplotlib) (1.2.0)\n",
      "Requirement already satisfied: cycler>=0.10 in c:\\users\\thesm\\appdata\\local\\programs\\python\\python311\\lib\\site-packages (from matplotlib) (0.12.1)\n",
      "Requirement already satisfied: fonttools>=4.22.0 in c:\\users\\thesm\\appdata\\local\\programs\\python\\python311\\lib\\site-packages (from matplotlib) (4.47.0)\n",
      "Requirement already satisfied: kiwisolver>=1.3.1 in c:\\users\\thesm\\appdata\\local\\programs\\python\\python311\\lib\\site-packages (from matplotlib) (1.4.5)\n",
      "Requirement already satisfied: packaging>=20.0 in c:\\users\\thesm\\appdata\\local\\programs\\python\\python311\\lib\\site-packages (from matplotlib) (23.0)\n",
      "Requirement already satisfied: pillow>=8 in c:\\users\\thesm\\appdata\\local\\programs\\python\\python311\\lib\\site-packages (from matplotlib) (10.1.0)\n",
      "Requirement already satisfied: pyparsing>=2.3.1 in c:\\users\\thesm\\appdata\\local\\programs\\python\\python311\\lib\\site-packages (from matplotlib) (3.1.1)\n",
      "Requirement already satisfied: python-dateutil>=2.7 in c:\\users\\thesm\\appdata\\local\\programs\\python\\python311\\lib\\site-packages (from matplotlib) (2.8.2)\n",
      "Requirement already satisfied: notebook in c:\\users\\thesm\\appdata\\local\\programs\\python\\python311\\lib\\site-packages (from jupyter) (7.0.6)\n",
      "Requirement already satisfied: jupyter-console in c:\\users\\thesm\\appdata\\local\\programs\\python\\python311\\lib\\site-packages (from jupyter) (6.6.3)\n",
      "Requirement already satisfied: nbconvert in c:\\users\\thesm\\appdata\\local\\programs\\python\\python311\\lib\\site-packages (from jupyter) (7.11.0)\n",
      "Requirement already satisfied: ipykernel in c:\\users\\thesm\\appdata\\roaming\\python\\python311\\site-packages (from jupyter) (6.21.2)\n",
      "Requirement already satisfied: jupyterlab in c:\\users\\thesm\\appdata\\local\\programs\\python\\python311\\lib\\site-packages (from jupyter) (4.0.9)\n",
      "Collecting imageio-ffmpeg (from imageio[ffmpeg])\n",
      "  Downloading imageio_ffmpeg-0.5.1-py3-none-win_amd64.whl.metadata (1.6 kB)\n",
      "Requirement already satisfied: psutil in c:\\users\\thesm\\appdata\\roaming\\python\\python311\\site-packages (from imageio[ffmpeg]) (5.9.4)\n",
      "Requirement already satisfied: Flask<3.1,>=1.0.4 in c:\\users\\thesm\\appdata\\local\\programs\\python\\python311\\lib\\site-packages (from dash>=2.6.0->open3d) (2.3.2)\n",
      "Requirement already satisfied: plotly>=5.0.0 in c:\\users\\thesm\\appdata\\local\\programs\\python\\python311\\lib\\site-packages (from dash>=2.6.0->open3d) (5.24.1)\n",
      "Requirement already satisfied: dash-html-components==2.0.0 in c:\\users\\thesm\\appdata\\local\\programs\\python\\python311\\lib\\site-packages (from dash>=2.6.0->open3d) (2.0.0)\n",
      "Requirement already satisfied: dash-core-components==2.0.0 in c:\\users\\thesm\\appdata\\local\\programs\\python\\python311\\lib\\site-packages (from dash>=2.6.0->open3d) (2.0.0)\n",
      "Requirement already satisfied: dash-table==5.0.0 in c:\\users\\thesm\\appdata\\local\\programs\\python\\python311\\lib\\site-packages (from dash>=2.6.0->open3d) (5.0.0)\n",
      "Requirement already satisfied: importlib-metadata in c:\\users\\thesm\\appdata\\local\\programs\\python\\python311\\lib\\site-packages (from dash>=2.6.0->open3d) (8.5.0)\n",
      "Requirement already satisfied: typing-extensions>=4.1.1 in c:\\users\\thesm\\appdata\\local\\programs\\python\\python311\\lib\\site-packages (from dash>=2.6.0->open3d) (4.11.0)\n",
      "Requirement already satisfied: requests in c:\\users\\thesm\\appdata\\local\\programs\\python\\python311\\lib\\site-packages (from dash>=2.6.0->open3d) (2.31.0)\n",
      "Requirement already satisfied: retrying in c:\\users\\thesm\\appdata\\local\\programs\\python\\python311\\lib\\site-packages (from dash>=2.6.0->open3d) (1.3.4)\n",
      "Requirement already satisfied: nest-asyncio in c:\\users\\thesm\\appdata\\roaming\\python\\python311\\site-packages (from dash>=2.6.0->open3d) (1.5.6)\n",
      "Requirement already satisfied: setuptools in c:\\users\\thesm\\appdata\\local\\programs\\python\\python311\\lib\\site-packages (from dash>=2.6.0->open3d) (65.5.0)\n",
      "Requirement already satisfied: comm>=0.1.3 in c:\\users\\thesm\\appdata\\local\\programs\\python\\python311\\lib\\site-packages (from ipywidgets>=8.0.4->open3d) (0.2.1)\n",
      "Requirement already satisfied: ipython>=6.1.0 in c:\\users\\thesm\\appdata\\roaming\\python\\python311\\site-packages (from ipywidgets>=8.0.4->open3d) (8.10.0)\n",
      "Requirement already satisfied: traitlets>=4.3.1 in c:\\users\\thesm\\appdata\\roaming\\python\\python311\\site-packages (from ipywidgets>=8.0.4->open3d) (5.9.0)\n",
      "Requirement already satisfied: widgetsnbextension~=4.0.9 in c:\\users\\thesm\\appdata\\local\\programs\\python\\python311\\lib\\site-packages (from ipywidgets>=8.0.4->open3d) (4.0.9)\n",
      "Requirement already satisfied: jupyterlab-widgets~=3.0.9 in c:\\users\\thesm\\appdata\\local\\programs\\python\\python311\\lib\\site-packages (from ipywidgets>=8.0.4->open3d) (3.0.9)\n",
      "Requirement already satisfied: fastjsonschema in c:\\users\\thesm\\appdata\\local\\programs\\python\\python311\\lib\\site-packages (from nbformat>=5.7.0->open3d) (2.19.0)\n",
      "Requirement already satisfied: jsonschema>=2.6 in c:\\users\\thesm\\appdata\\local\\programs\\python\\python311\\lib\\site-packages (from nbformat>=5.7.0->open3d) (4.20.0)\n",
      "Requirement already satisfied: jupyter-core in c:\\users\\thesm\\appdata\\roaming\\python\\python311\\site-packages (from nbformat>=5.7.0->open3d) (5.2.0)\n",
      "Requirement already satisfied: six>=1.5 in c:\\users\\thesm\\appdata\\local\\programs\\python\\python311\\lib\\site-packages (from python-dateutil>=2.7->matplotlib) (1.16.0)\n",
      "Requirement already satisfied: MarkupSafe>=2.1.1 in c:\\users\\thesm\\appdata\\local\\programs\\python\\python311\\lib\\site-packages (from werkzeug>=2.2.3->open3d) (2.1.3)\n",
      "Requirement already satisfied: debugpy>=1.6.5 in c:\\users\\thesm\\appdata\\roaming\\python\\python311\\site-packages (from ipykernel->jupyter) (1.6.6)\n",
      "Requirement already satisfied: jupyter-client>=6.1.12 in c:\\users\\thesm\\appdata\\roaming\\python\\python311\\site-packages (from ipykernel->jupyter) (8.0.3)\n",
      "Requirement already satisfied: matplotlib-inline>=0.1 in c:\\users\\thesm\\appdata\\roaming\\python\\python311\\site-packages (from ipykernel->jupyter) (0.1.6)\n",
      "Requirement already satisfied: pyzmq>=20 in c:\\users\\thesm\\appdata\\roaming\\python\\python311\\site-packages (from ipykernel->jupyter) (25.0.0)\n",
      "Requirement already satisfied: tornado>=6.1 in c:\\users\\thesm\\appdata\\roaming\\python\\python311\\site-packages (from ipykernel->jupyter) (6.2)\n",
      "Requirement already satisfied: prompt-toolkit>=3.0.30 in c:\\users\\thesm\\appdata\\roaming\\python\\python311\\site-packages (from jupyter-console->jupyter) (3.0.36)\n",
      "Requirement already satisfied: pygments in c:\\users\\thesm\\appdata\\roaming\\python\\python311\\site-packages (from jupyter-console->jupyter) (2.14.0)\n",
      "Requirement already satisfied: async-lru>=1.0.0 in c:\\users\\thesm\\appdata\\local\\programs\\python\\python311\\lib\\site-packages (from jupyterlab->jupyter) (2.0.4)\n",
      "Requirement already satisfied: jinja2>=3.0.3 in c:\\users\\thesm\\appdata\\local\\programs\\python\\python311\\lib\\site-packages (from jupyterlab->jupyter) (3.1.2)\n",
      "Requirement already satisfied: jupyter-lsp>=2.0.0 in c:\\users\\thesm\\appdata\\local\\programs\\python\\python311\\lib\\site-packages (from jupyterlab->jupyter) (2.2.1)\n",
      "Requirement already satisfied: jupyter-server<3,>=2.4.0 in c:\\users\\thesm\\appdata\\local\\programs\\python\\python311\\lib\\site-packages (from jupyterlab->jupyter) (2.11.1)\n",
      "Requirement already satisfied: jupyterlab-server<3,>=2.19.0 in c:\\users\\thesm\\appdata\\local\\programs\\python\\python311\\lib\\site-packages (from jupyterlab->jupyter) (2.25.2)\n",
      "Requirement already satisfied: notebook-shim>=0.2 in c:\\users\\thesm\\appdata\\local\\programs\\python\\python311\\lib\\site-packages (from jupyterlab->jupyter) (0.2.3)\n",
      "Requirement already satisfied: beautifulsoup4 in c:\\users\\thesm\\appdata\\local\\programs\\python\\python311\\lib\\site-packages (from nbconvert->jupyter) (4.12.2)\n",
      "Requirement already satisfied: bleach!=5.0.0 in c:\\users\\thesm\\appdata\\local\\programs\\python\\python311\\lib\\site-packages (from nbconvert->jupyter) (6.1.0)\n",
      "Requirement already satisfied: defusedxml in c:\\users\\thesm\\appdata\\local\\programs\\python\\python311\\lib\\site-packages (from nbconvert->jupyter) (0.7.1)\n",
      "Requirement already satisfied: jupyterlab-pygments in c:\\users\\thesm\\appdata\\local\\programs\\python\\python311\\lib\\site-packages (from nbconvert->jupyter) (0.3.0)\n",
      "Requirement already satisfied: mistune<4,>=2.0.3 in c:\\users\\thesm\\appdata\\local\\programs\\python\\python311\\lib\\site-packages (from nbconvert->jupyter) (3.0.2)\n",
      "Requirement already satisfied: nbclient>=0.5.0 in c:\\users\\thesm\\appdata\\local\\programs\\python\\python311\\lib\\site-packages (from nbconvert->jupyter) (0.9.0)\n",
      "Requirement already satisfied: pandocfilters>=1.4.1 in c:\\users\\thesm\\appdata\\local\\programs\\python\\python311\\lib\\site-packages (from nbconvert->jupyter) (1.5.0)\n",
      "Requirement already satisfied: tinycss2 in c:\\users\\thesm\\appdata\\local\\programs\\python\\python311\\lib\\site-packages (from nbconvert->jupyter) (1.2.1)\n",
      "Requirement already satisfied: webencodings in c:\\users\\thesm\\appdata\\local\\programs\\python\\python311\\lib\\site-packages (from bleach!=5.0.0->nbconvert->jupyter) (0.5.1)\n",
      "Requirement already satisfied: itsdangerous>=2.1.2 in c:\\users\\thesm\\appdata\\local\\programs\\python\\python311\\lib\\site-packages (from Flask<3.1,>=1.0.4->dash>=2.6.0->open3d) (2.1.2)\n",
      "Requirement already satisfied: click>=8.1.3 in c:\\users\\thesm\\appdata\\local\\programs\\python\\python311\\lib\\site-packages (from Flask<3.1,>=1.0.4->dash>=2.6.0->open3d) (8.1.4)\n",
      "Requirement already satisfied: blinker>=1.6.2 in c:\\users\\thesm\\appdata\\local\\programs\\python\\python311\\lib\\site-packages (from Flask<3.1,>=1.0.4->dash>=2.6.0->open3d) (1.6.2)\n",
      "Requirement already satisfied: backcall in c:\\users\\thesm\\appdata\\roaming\\python\\python311\\site-packages (from ipython>=6.1.0->ipywidgets>=8.0.4->open3d) (0.2.0)\n",
      "Requirement already satisfied: decorator in c:\\users\\thesm\\appdata\\roaming\\python\\python311\\site-packages (from ipython>=6.1.0->ipywidgets>=8.0.4->open3d) (5.1.1)\n",
      "Requirement already satisfied: jedi>=0.16 in c:\\users\\thesm\\appdata\\roaming\\python\\python311\\site-packages (from ipython>=6.1.0->ipywidgets>=8.0.4->open3d) (0.18.2)\n",
      "Requirement already satisfied: pickleshare in c:\\users\\thesm\\appdata\\roaming\\python\\python311\\site-packages (from ipython>=6.1.0->ipywidgets>=8.0.4->open3d) (0.7.5)\n",
      "Requirement already satisfied: stack-data in c:\\users\\thesm\\appdata\\roaming\\python\\python311\\site-packages (from ipython>=6.1.0->ipywidgets>=8.0.4->open3d) (0.6.2)\n",
      "Requirement already satisfied: colorama in c:\\users\\thesm\\appdata\\roaming\\python\\python311\\site-packages (from ipython>=6.1.0->ipywidgets>=8.0.4->open3d) (0.4.6)\n",
      "Requirement already satisfied: attrs>=22.2.0 in c:\\users\\thesm\\appdata\\local\\programs\\python\\python311\\lib\\site-packages (from jsonschema>=2.6->nbformat>=5.7.0->open3d) (23.1.0)\n",
      "Requirement already satisfied: jsonschema-specifications>=2023.03.6 in c:\\users\\thesm\\appdata\\local\\programs\\python\\python311\\lib\\site-packages (from jsonschema>=2.6->nbformat>=5.7.0->open3d) (2023.11.1)\n",
      "Requirement already satisfied: referencing>=0.28.4 in c:\\users\\thesm\\appdata\\local\\programs\\python\\python311\\lib\\site-packages (from jsonschema>=2.6->nbformat>=5.7.0->open3d) (0.31.1)\n",
      "Requirement already satisfied: rpds-py>=0.7.1 in c:\\users\\thesm\\appdata\\local\\programs\\python\\python311\\lib\\site-packages (from jsonschema>=2.6->nbformat>=5.7.0->open3d) (0.13.2)\n",
      "Requirement already satisfied: platformdirs>=2.5 in c:\\users\\thesm\\appdata\\roaming\\python\\python311\\site-packages (from jupyter-core->nbformat>=5.7.0->open3d) (3.0.0)\n",
      "Requirement already satisfied: pywin32>=1.0 in c:\\users\\thesm\\appdata\\roaming\\python\\python311\\site-packages (from jupyter-core->nbformat>=5.7.0->open3d) (305)\n",
      "Requirement already satisfied: anyio>=3.1.0 in c:\\users\\thesm\\appdata\\local\\programs\\python\\python311\\lib\\site-packages (from jupyter-server<3,>=2.4.0->jupyterlab->jupyter) (4.1.0)\n",
      "Requirement already satisfied: argon2-cffi in c:\\users\\thesm\\appdata\\local\\programs\\python\\python311\\lib\\site-packages (from jupyter-server<3,>=2.4.0->jupyterlab->jupyter) (23.1.0)\n",
      "Requirement already satisfied: jupyter-events>=0.9.0 in c:\\users\\thesm\\appdata\\local\\programs\\python\\python311\\lib\\site-packages (from jupyter-server<3,>=2.4.0->jupyterlab->jupyter) (0.9.0)\n",
      "Requirement already satisfied: jupyter-server-terminals in c:\\users\\thesm\\appdata\\local\\programs\\python\\python311\\lib\\site-packages (from jupyter-server<3,>=2.4.0->jupyterlab->jupyter) (0.4.4)\n",
      "Requirement already satisfied: overrides in c:\\users\\thesm\\appdata\\local\\programs\\python\\python311\\lib\\site-packages (from jupyter-server<3,>=2.4.0->jupyterlab->jupyter) (7.4.0)\n",
      "Requirement already satisfied: prometheus-client in c:\\users\\thesm\\appdata\\local\\programs\\python\\python311\\lib\\site-packages (from jupyter-server<3,>=2.4.0->jupyterlab->jupyter) (0.19.0)\n",
      "Requirement already satisfied: pywinpty in c:\\users\\thesm\\appdata\\local\\programs\\python\\python311\\lib\\site-packages (from jupyter-server<3,>=2.4.0->jupyterlab->jupyter) (2.0.12)\n",
      "Requirement already satisfied: send2trash>=1.8.2 in c:\\users\\thesm\\appdata\\local\\programs\\python\\python311\\lib\\site-packages (from jupyter-server<3,>=2.4.0->jupyterlab->jupyter) (1.8.2)\n",
      "Requirement already satisfied: terminado>=0.8.3 in c:\\users\\thesm\\appdata\\local\\programs\\python\\python311\\lib\\site-packages (from jupyter-server<3,>=2.4.0->jupyterlab->jupyter) (0.18.0)\n",
      "Requirement already satisfied: websocket-client in c:\\users\\thesm\\appdata\\local\\programs\\python\\python311\\lib\\site-packages (from jupyter-server<3,>=2.4.0->jupyterlab->jupyter) (1.6.4)\n",
      "Requirement already satisfied: babel>=2.10 in c:\\users\\thesm\\appdata\\local\\programs\\python\\python311\\lib\\site-packages (from jupyterlab-server<3,>=2.19.0->jupyterlab->jupyter) (2.13.1)\n",
      "Requirement already satisfied: json5>=0.9.0 in c:\\users\\thesm\\appdata\\local\\programs\\python\\python311\\lib\\site-packages (from jupyterlab-server<3,>=2.19.0->jupyterlab->jupyter) (0.9.14)\n",
      "Requirement already satisfied: tenacity>=6.2.0 in c:\\users\\thesm\\appdata\\local\\programs\\python\\python311\\lib\\site-packages (from plotly>=5.0.0->dash>=2.6.0->open3d) (9.0.0)\n",
      "Requirement already satisfied: wcwidth in c:\\users\\thesm\\appdata\\roaming\\python\\python311\\site-packages (from prompt-toolkit>=3.0.30->jupyter-console->jupyter) (0.2.6)\n",
      "Requirement already satisfied: charset-normalizer<4,>=2 in c:\\users\\thesm\\appdata\\local\\programs\\python\\python311\\lib\\site-packages (from requests->dash>=2.6.0->open3d) (3.2.0)\n",
      "Requirement already satisfied: idna<4,>=2.5 in c:\\users\\thesm\\appdata\\local\\programs\\python\\python311\\lib\\site-packages (from requests->dash>=2.6.0->open3d) (3.4)\n",
      "Requirement already satisfied: urllib3<3,>=1.21.1 in c:\\users\\thesm\\appdata\\local\\programs\\python\\python311\\lib\\site-packages (from requests->dash>=2.6.0->open3d) (2.0.3)\n",
      "Requirement already satisfied: certifi>=2017.4.17 in c:\\users\\thesm\\appdata\\local\\programs\\python\\python311\\lib\\site-packages (from requests->dash>=2.6.0->open3d) (2023.5.7)\n",
      "Requirement already satisfied: soupsieve>1.2 in c:\\users\\thesm\\appdata\\local\\programs\\python\\python311\\lib\\site-packages (from beautifulsoup4->nbconvert->jupyter) (2.5)\n",
      "Requirement already satisfied: zipp>=3.20 in c:\\users\\thesm\\appdata\\local\\programs\\python\\python311\\lib\\site-packages (from importlib-metadata->dash>=2.6.0->open3d) (3.20.2)\n",
      "Requirement already satisfied: sniffio>=1.1 in c:\\users\\thesm\\appdata\\local\\programs\\python\\python311\\lib\\site-packages (from anyio>=3.1.0->jupyter-server<3,>=2.4.0->jupyterlab->jupyter) (1.3.0)\n",
      "Requirement already satisfied: parso<0.9.0,>=0.8.0 in c:\\users\\thesm\\appdata\\roaming\\python\\python311\\site-packages (from jedi>=0.16->ipython>=6.1.0->ipywidgets>=8.0.4->open3d) (0.8.3)\n",
      "Requirement already satisfied: python-json-logger>=2.0.4 in c:\\users\\thesm\\appdata\\local\\programs\\python\\python311\\lib\\site-packages (from jupyter-events>=0.9.0->jupyter-server<3,>=2.4.0->jupyterlab->jupyter) (2.0.7)\n",
      "Requirement already satisfied: pyyaml>=5.3 in c:\\users\\thesm\\appdata\\local\\programs\\python\\python311\\lib\\site-packages (from jupyter-events>=0.9.0->jupyter-server<3,>=2.4.0->jupyterlab->jupyter) (6.0.1)\n",
      "Requirement already satisfied: rfc3339-validator in c:\\users\\thesm\\appdata\\local\\programs\\python\\python311\\lib\\site-packages (from jupyter-events>=0.9.0->jupyter-server<3,>=2.4.0->jupyterlab->jupyter) (0.1.4)\n",
      "Requirement already satisfied: rfc3986-validator>=0.1.1 in c:\\users\\thesm\\appdata\\local\\programs\\python\\python311\\lib\\site-packages (from jupyter-events>=0.9.0->jupyter-server<3,>=2.4.0->jupyterlab->jupyter) (0.1.1)\n",
      "Requirement already satisfied: argon2-cffi-bindings in c:\\users\\thesm\\appdata\\local\\programs\\python\\python311\\lib\\site-packages (from argon2-cffi->jupyter-server<3,>=2.4.0->jupyterlab->jupyter) (21.2.0)\n",
      "Requirement already satisfied: executing>=1.2.0 in c:\\users\\thesm\\appdata\\roaming\\python\\python311\\site-packages (from stack-data->ipython>=6.1.0->ipywidgets>=8.0.4->open3d) (1.2.0)\n",
      "Requirement already satisfied: asttokens>=2.1.0 in c:\\users\\thesm\\appdata\\roaming\\python\\python311\\site-packages (from stack-data->ipython>=6.1.0->ipywidgets>=8.0.4->open3d) (2.2.1)\n",
      "Requirement already satisfied: pure-eval in c:\\users\\thesm\\appdata\\roaming\\python\\python311\\site-packages (from stack-data->ipython>=6.1.0->ipywidgets>=8.0.4->open3d) (0.2.2)\n",
      "Requirement already satisfied: fqdn in c:\\users\\thesm\\appdata\\local\\programs\\python\\python311\\lib\\site-packages (from jsonschema[format-nongpl]>=4.18.0->jupyter-events>=0.9.0->jupyter-server<3,>=2.4.0->jupyterlab->jupyter) (1.5.1)\n",
      "Requirement already satisfied: isoduration in c:\\users\\thesm\\appdata\\local\\programs\\python\\python311\\lib\\site-packages (from jsonschema[format-nongpl]>=4.18.0->jupyter-events>=0.9.0->jupyter-server<3,>=2.4.0->jupyterlab->jupyter) (20.11.0)\n",
      "Requirement already satisfied: jsonpointer>1.13 in c:\\users\\thesm\\appdata\\local\\programs\\python\\python311\\lib\\site-packages (from jsonschema[format-nongpl]>=4.18.0->jupyter-events>=0.9.0->jupyter-server<3,>=2.4.0->jupyterlab->jupyter) (2.4)\n",
      "Requirement already satisfied: uri-template in c:\\users\\thesm\\appdata\\local\\programs\\python\\python311\\lib\\site-packages (from jsonschema[format-nongpl]>=4.18.0->jupyter-events>=0.9.0->jupyter-server<3,>=2.4.0->jupyterlab->jupyter) (1.3.0)\n",
      "Requirement already satisfied: webcolors>=1.11 in c:\\users\\thesm\\appdata\\local\\programs\\python\\python311\\lib\\site-packages (from jsonschema[format-nongpl]>=4.18.0->jupyter-events>=0.9.0->jupyter-server<3,>=2.4.0->jupyterlab->jupyter) (1.13)\n",
      "Requirement already satisfied: cffi>=1.0.1 in c:\\users\\thesm\\appdata\\local\\programs\\python\\python311\\lib\\site-packages (from argon2-cffi-bindings->argon2-cffi->jupyter-server<3,>=2.4.0->jupyterlab->jupyter) (1.16.0)\n",
      "Requirement already satisfied: pycparser in c:\\users\\thesm\\appdata\\local\\programs\\python\\python311\\lib\\site-packages (from cffi>=1.0.1->argon2-cffi-bindings->argon2-cffi->jupyter-server<3,>=2.4.0->jupyterlab->jupyter) (2.21)\n",
      "Requirement already satisfied: arrow>=0.15.0 in c:\\users\\thesm\\appdata\\local\\programs\\python\\python311\\lib\\site-packages (from isoduration->jsonschema[format-nongpl]>=4.18.0->jupyter-events>=0.9.0->jupyter-server<3,>=2.4.0->jupyterlab->jupyter) (1.3.0)\n",
      "Requirement already satisfied: types-python-dateutil>=2.8.10 in c:\\users\\thesm\\appdata\\local\\programs\\python\\python311\\lib\\site-packages (from arrow>=0.15.0->isoduration->jsonschema[format-nongpl]>=4.18.0->jupyter-events>=0.9.0->jupyter-server<3,>=2.4.0->jupyterlab->jupyter) (2.8.19.14)\n",
      "Downloading imageio_ffmpeg-0.5.1-py3-none-win_amd64.whl (22.6 MB)\n",
      "   ---------------------------------------- 0.0/22.6 MB ? eta -:--:--\n",
      "   - -------------------------------------- 1.0/22.6 MB 7.1 MB/s eta 0:00:04\n",
      "   ---- ----------------------------------- 2.4/22.6 MB 6.7 MB/s eta 0:00:04\n",
      "   ------ --------------------------------- 3.7/22.6 MB 6.6 MB/s eta 0:00:03\n",
      "   ------- -------------------------------- 4.5/22.6 MB 5.8 MB/s eta 0:00:04\n",
      "   --------- ------------------------------ 5.2/22.6 MB 5.4 MB/s eta 0:00:04\n",
      "   ---------- ----------------------------- 5.8/22.6 MB 5.0 MB/s eta 0:00:04\n",
      "   ------------ --------------------------- 6.8/22.6 MB 4.8 MB/s eta 0:00:04\n",
      "   ------------- -------------------------- 7.9/22.6 MB 4.9 MB/s eta 0:00:04\n",
      "   ------------------ --------------------- 10.5/22.6 MB 5.8 MB/s eta 0:00:03\n",
      "   ---------------------- ----------------- 12.8/22.6 MB 6.4 MB/s eta 0:00:02\n",
      "   ------------------------- -------------- 14.7/22.6 MB 6.6 MB/s eta 0:00:02\n",
      "   ----------------------------- ---------- 16.8/22.6 MB 7.0 MB/s eta 0:00:01\n",
      "   -------------------------------- ------- 18.6/22.6 MB 7.0 MB/s eta 0:00:01\n",
      "   ------------------------------------- -- 21.2/22.6 MB 7.5 MB/s eta 0:00:01\n",
      "   ---------------------------------------- 22.6/22.6 MB 7.7 MB/s eta 0:00:00\n",
      "Installing collected packages: imageio-ffmpeg\n",
      "Successfully installed imageio-ffmpeg-0.5.1\n"
     ]
    }
   ],
   "source": [
    "!pip install tqdm numpy matplotlib jupyter imageio[ffmpeg] open3d"
   ]
  },
  {
   "cell_type": "markdown",
   "id": "ad584a18-da5d-41a3-8bb9-ea76cec1f365",
   "metadata": {},
   "source": [
    "# Dataset Installation Notes\n",
    "In order to download the dataset, go to this [website](https://www.cs.cmu.edu/~vmr/datasets/oakland_3d/cvpr09/doc/) and download the complete dataset. Unzip the zip file and put the `original` folder in the same directory/folder as this jupyter notebook."
   ]
  },
  {
   "cell_type": "markdown",
   "id": "36685327-6bac-4210-a612-cadfd1c7ce6f",
   "metadata": {},
   "source": [
    "# Importing Libraries"
   ]
  },
  {
   "cell_type": "code",
   "execution_count": 19,
   "id": "ab6ce601-0b56-4eb9-b54b-93e0aacc4b9a",
   "metadata": {},
   "outputs": [],
   "source": [
    "import numpy as np\n",
    "import open3d as o3d\n",
    "import matplotlib.pyplot as plt\n",
    "import ipywidgets as widgets\n",
    "from IPython.display import display\n",
    "import os\n",
    "from tqdm import tqdm\n",
    "import imageio.v2 "
   ]
  },
  {
   "cell_type": "markdown",
   "id": "41d078f5-7d3a-4d09-a675-e2105c2f98c0",
   "metadata": {},
   "source": [
    "# 3D Visualization of data"
   ]
  },
  {
   "cell_type": "code",
   "execution_count": 2,
   "id": "70ba8a09-429f-469a-b236-95524b2797b3",
   "metadata": {},
   "outputs": [],
   "source": [
    "def label_to_color(labels):\n",
    "    # Define a color map for each label (RGB values between 0 and 1)\n",
    "    color_map = {\n",
    "        0: [1.0, 0.0, 0.0],          # camera - hard red\n",
    "        1000: [0.0, 0.0, 0.0],       # to_label - black\n",
    "        1001: [0.5, 0.5, 0.5],       # undet - gray\n",
    "        1002: [0.7, 0.0, 0.0],       # linear_misc - light red\n",
    "        1003: [0.0, 1.0, 0.0],       # surf_misc - green\n",
    "        1004: [0.0, 0.0, 1.0],       # scatter_misc - blue\n",
    "        1005: [1.0, 1.0, 0.0],       # artifact - yellow\n",
    "        1100: [1.0, 0.5, 0.0],       # default_wire - orange\n",
    "        1101: [1.0, 0.0, 1.0],       # wire_bundle - magenta\n",
    "        1102: [0.5, 0.0, 1.0],       # isolated_wire - purple\n",
    "        1103: [0.0, 1.0, 1.0],       # utility_pole - cyan\n",
    "        1104: [0.5, 1.0, 0.0],       # crossarm - lime green\n",
    "        1105: [1.0, 0.5, 0.5],       # support_wire - pink\n",
    "        1106: [0.0, 0.5, 1.0],       # support_pole - sky blue\n",
    "        1107: [0.5, 0.5, 1.0],       # lamp_support - light blue\n",
    "        1108: [1.0, 0.0, 0.5],       # transformer - crimson\n",
    "        1109: [0.5, 1.0, 1.0],       # fire_hydrant - pale cyan\n",
    "        1110: [0.0, 0.5, 0.0],       # post - dark green\n",
    "        1111: [0.5, 0.5, 0.0],       # sign - olive\n",
    "        1112: [0.5, 0.0, 0.0],       # pylon - brown\n",
    "        1113: [1.0, 0.75, 0.0],      # bench - gold\n",
    "        1114: [0.75, 0.75, 0.75],    # lamp - silver\n",
    "        1115: [1.0, 0.25, 0.25],     # traffic_lights - light red\n",
    "        1116: [0.75, 0.25, 0.75],    # traffic_lights_support - orchid\n",
    "        1117: [0.25, 0.5, 0.25],     # garbage - forest green\n",
    "        1118: [0.25, 0.75, 0.5],     # crosswalk_light - sea green\n",
    "        1119: [0.5, 0.25, 0.75],     # parking_meter - plum\n",
    "        1200: [1.0, 0.6, 0.0],       # load_bearing - dark orange\n",
    "        1201: [0.8, 0.4, 0.2],       # cliff - copper\n",
    "        1202: [0.6, 0.3, 0.0],       # ground - bronze\n",
    "        1203: [0.4, 0.2, 0.1],       # paved_road - deep brown\n",
    "        1204: [0.8, 0.8, 0.0],       # trail - mustard yellow\n",
    "        1205: [0.9, 0.9, 0.7],       # curb - beige\n",
    "        1206: [0.3, 0.6, 0.3],       # walkway - pastel green\n",
    "        1207: [0.0, 0.3, 0.5],       # guardrail - deep blue\n",
    "        1300: [0.0, 1.0, 0.5],       # foliage - light green\n",
    "        1301: [0.4, 0.8, 0.0],       # grass - grass green\n",
    "        1302: [0.6, 0.4, 0.2],       # small_trunk - light brown\n",
    "        1303: [0.4, 0.2, 0.1],       # large_trunk - dark brown\n",
    "        1304: [0.2, 0.6, 0.2],       # thin_branch - fern green\n",
    "        1305: [0.1, 0.4, 0.1],       # thick_branch - forest brown\n",
    "        1306: [0.5, 1.0, 0.0],       # shrub - lime\n",
    "        1400: [0.5, 0.5, 1.0],       # facade - light blue\n",
    "        1401: [0.3, 0.3, 0.3],       # wall - dark gray\n",
    "        1402: [0.7, 0.7, 0.7],       # stairs - light gray\n",
    "        1403: [1.0, 0.7, 0.5],       # door - light orange\n",
    "        1404: [0.5, 0.8, 1.0],       # window - pale blue\n",
    "        1405: [0.8, 0.5, 0.3],       # chimney - brick red\n",
    "        1406: [0.9, 0.8, 0.6],       # roof - sand\n",
    "        1407: [0.4, 0.6, 0.8],       # chainlinkfence - steel blue\n",
    "        1408: [0.6, 0.4, 0.2],       # fence - wooden brown\n",
    "        1409: [0.9, 0.9, 0.7],       # gate - light beige\n",
    "        1410: [0.7, 0.7, 0.7],       # ceiling - light gray\n",
    "        1411: [0.9, 0.9, 0.6],       # facade_ledge - sandstone\n",
    "        1412: [0.3, 0.2, 0.5],       # column - violet\n",
    "        1413: [0.8, 0.2, 0.0],       # mailbox - bright red\n",
    "        1500: [1.0, 0.8, 0.8],       # human - light pink\n",
    "        1501: [0.5, 0.0, 0.5],       # vehicle - purple\n",
    "        1600: [0.6, 0.4, 0.3],       # rock - earthy brown\n",
    "        1601: [0.9, 0.7, 0.3]        # concertina_wire - goldenrod\n",
    "    }\n",
    "    \n",
    "    # Get colors for each label\n",
    "    colors = np.array([color_map.get(label, [0.5, 0.5, 0.5]) for label in labels])  # Default to gray if label not in map\n",
    "    return colors"
   ]
  },
  {
   "cell_type": "code",
   "execution_count": 3,
   "id": "53179d8e-df45-4777-adbd-e619331e6f65",
   "metadata": {},
   "outputs": [],
   "source": [
    "# Function to load the point cloud file\n",
    "def load_oakland_data_with_labels(file_path):\n",
    "    # Load the point cloud data\n",
    "    data = np.loadtxt(file_path)\n",
    "    points = data[:, :3] \n",
    "    labels = data[:, 3].astype(int)\n",
    "    return points, labels\n",
    "\n",
    "# Function to load and append multiple files\n",
    "def load_multiple_oakland_files(file_paths):\n",
    "    all_points = []\n",
    "    all_labels = []\n",
    "    \n",
    "    for file_path in file_paths:\n",
    "        points, labels = load_oakland_data_with_labels(file_path)\n",
    "        all_points.append(points)\n",
    "        all_labels.append(labels)\n",
    "    \n",
    "    # Concatenate all points and labels\n",
    "    all_points = np.vstack(all_points)\n",
    "    all_labels = np.concatenate(all_labels)\n",
    "    \n",
    "    return all_points, all_labels\n",
    "\n",
    "# Function to visualize point cloud data with colored points\n",
    "def visualize_point_cloud_with_colors(points, colors):\n",
    "    # Create Open3D point cloud object\n",
    "    pcd = o3d.geometry.PointCloud()\n",
    "    pcd.points = o3d.utility.Vector3dVector(points)\n",
    "    pcd.colors = o3d.utility.Vector3dVector(colors)\n",
    "\n",
    "    # Visualize\n",
    "    o3d.visualization.draw_geometries([pcd])"
   ]
  },
  {
   "cell_type": "code",
   "execution_count": 4,
   "id": "cab75146-871b-44b0-a562-f8a2d398b8d8",
   "metadata": {},
   "outputs": [],
   "source": [
    "# All the files with 3D cloud point data\n",
    "all_file_paths = [\"original/\"+i for i in os.listdir('original/')[1:-2]]"
   ]
  },
  {
   "cell_type": "code",
   "execution_count": 5,
   "id": "a5eb6f30-0937-4e03-a58a-8b868665b651",
   "metadata": {},
   "outputs": [],
   "source": [
    "# File path to the dataset file (adjust as needed)\n",
    "file_paths = [\n",
    " 'original/oakland_part3_aj.xyz_label_conf',\n",
    " 'original/oakland_part3_ak.xyz_label_conf',\n",
    " 'original/oakland_part3_al.xyz_label_conf',\n",
    " 'original/oakland_part3_am.xyz_label_conf']\n",
    "\n",
    "# Load the point cloud data and labels\n",
    "points, labels = load_multiple_oakland_files(file_paths)\n",
    "\n",
    "# Camera position & target position\n",
    "data_center = (195, 230, 5)\n",
    "camera_position = (15, 210, 0)\n",
    "\n",
    "plot_camera_center = False # Plot the camera and data center\n",
    "if plot_camera_center:\n",
    "    points = np.append(points, [data_center, camera_position], axis=0)\n",
    "    labels = np.append(labels, [0,0])\n",
    "\n",
    "# Map labels to colors\n",
    "colors = label_to_color(labels)\n",
    "\n",
    "# Visualize the point cloud with colored points\n",
    "visualize_point_cloud_with_colors(points, colors)"
   ]
  },
  {
   "cell_type": "markdown",
   "id": "d0701039-9cef-479b-84c7-c8ceddb73f6e",
   "metadata": {},
   "source": [
    "# Camera Pinhole sensor model "
   ]
  },
  {
   "cell_type": "code",
   "execution_count": 10,
   "id": "951ba1b0-fc5f-44bc-9e43-ade66bd07102",
   "metadata": {},
   "outputs": [],
   "source": [
    "# Function to compute rotation matrix for X, Y, and Z axes given the camera position and a target position\n",
    "def compute_rotation_matrix(camera_position, target_position, up_vector=np.array([0, 1, 0])):\n",
    "    # Compute the forward vector (from camera to target)\n",
    "    forward = np.array(target_position) - np.array(camera_position)\n",
    "    forward = forward / np.linalg.norm(forward)\n",
    "    \n",
    "    # Compute the right vector (orthogonal to forward and up)\n",
    "    right = np.cross(up_vector, forward)\n",
    "    right = right / np.linalg.norm(right)\n",
    "    \n",
    "    # Compute the up vector (orthogonal to forward and right)\n",
    "    up = np.cross(forward, right)\n",
    "    \n",
    "    # Create the rotation matrix\n",
    "    rotation_matrix = np.array([right, up, forward])\n",
    "    \n",
    "    return rotation_matrix\n",
    "\n",
    "# Helper function to apply the pinhole camera model for projection with rotation\n",
    "def pinhole_projection(points, camera_position, camera_rotation, focal_length=1.0):\n",
    "    # Shift points based on camera position\n",
    "    shifted_points = points - camera_position\n",
    "    \n",
    "    # Apply camera rotation to the points\n",
    "    rotated_points = np.dot(shifted_points, camera_rotation.T)\n",
    "    \n",
    "    # Project points using pinhole camera model\n",
    "    X = -rotated_points[:, 0]\n",
    "    Y = rotated_points[:, 1]\n",
    "    Z = rotated_points[:, 2]\n",
    "    \n",
    "    # Avoid division by zero for points too close to the camera\n",
    "    Z[Z == 0] = 1e-6\n",
    "    \n",
    "    # Apply the projection to get 2D coordinates (pinhole projection formula)\n",
    "    x_proj = focal_length * X / Z\n",
    "    y_proj = focal_length * Y / Z\n",
    "\n",
    "    # Get magnitude (technically distance from point to camera)\n",
    "    mags = np.linalg.norm(shifted_points, axis=1)\n",
    "\n",
    "    # Return 2D projected points\n",
    "    return np.vstack((x_proj, y_proj)).T, mags\n",
    "\n",
    "# Function to render the projected 2D view\n",
    "def render_2d_pinhole_view(points, labels, camera_position, target_position, focal_length=1.0):\n",
    "    # Create the camera rotation matrix\n",
    "    up_vector=np.array([0,0,1])\n",
    "    camera_rotation = compute_rotation_matrix(camera_position, target_position, up_vector)\n",
    "    \n",
    "    # Project the 3D points onto the 2D plane using pinhole model\n",
    "    projected_points, _ = pinhole_projection(points, camera_position, camera_rotation, focal_length)\n",
    "    \n",
    "    # Get colors for each label\n",
    "    colors = label_to_color(labels)\n",
    "    \n",
    "    # Plot the 2D points\n",
    "    plt.figure(figsize=(8, 8))\n",
    "    plt.scatter(projected_points[:, 0], projected_points[:, 1], c=colors, s=5, alpha=0.6)\n",
    "    plt.xlabel(\"x'\")\n",
    "    plt.ylabel(\"y'\")\n",
    "    plt.xticks([])\n",
    "    plt.yticks([])\n",
    "    plt.ylim(-0.1,0.2)\n",
    "    plt.xlim(-0.8, 0.3)\n",
    "    plt.title(f'Pinhole Camera Model')\n",
    "    plt.show()"
   ]
  },
  {
   "cell_type": "markdown",
   "id": "8270731d-ea6f-4775-9d9e-af5def526acd",
   "metadata": {},
   "source": [
    "#### Interactive Sliders "
   ]
  },
  {
   "cell_type": "code",
   "execution_count": 11,
   "id": "910692cd-af55-42fa-933b-70b98bd5f2dc",
   "metadata": {},
   "outputs": [
    {
     "data": {
      "application/vnd.jupyter.widget-view+json": {
       "model_id": "66216a318e6a47afba47fac430d515ea",
       "version_major": 2,
       "version_minor": 0
      },
      "text/plain": [
       "VBox(children=(FloatSlider(value=20.0, description='Height', step=1.0),))"
      ]
     },
     "metadata": {},
     "output_type": "display_data"
    },
    {
     "data": {
      "application/vnd.jupyter.widget-view+json": {
       "model_id": "cb568eddf5764faba4e439ebe8fe0ad1",
       "version_major": 2,
       "version_minor": 0
      },
      "text/plain": [
       "Output()"
      ]
     },
     "metadata": {},
     "output_type": "display_data"
    }
   ],
   "source": [
    "# Here given that the camera will point to the \"data center\", we have a widget to move the camera up and down\n",
    "def interactive_render(points, labels):\n",
    "    # Define sliders for rotation angles\n",
    "    height_slider = widgets.FloatSlider(value=20, min=0, max=100, step=1, description='Height')\n",
    "    \n",
    "    # Link sliders to the rendering function\n",
    "    ui = widgets.VBox([height_slider])\n",
    "    \n",
    "    def update_view(height):\n",
    "        height=np.array([0,0,height])\n",
    "        render_2d_pinhole_view(points, labels, camera_position+height, data_center, focal_length=1)\n",
    "    \n",
    "    out = widgets.interactive_output(update_view, {'height': height_slider})\n",
    "    \n",
    "    display(ui, out)\n",
    "\n",
    "interactive_render(points, labels)"
   ]
  },
  {
   "cell_type": "code",
   "execution_count": 12,
   "id": "d152bd18-7c8e-4911-8439-96f3ef84555d",
   "metadata": {},
   "outputs": [
    {
     "data": {
      "application/vnd.jupyter.widget-view+json": {
       "model_id": "04d3f0dfb06246858805126cdebadc08",
       "version_major": 2,
       "version_minor": 0
      },
      "text/plain": [
       "VBox(children=(FloatSlider(value=-2.0, description='Angle', max=-1.1, min=-4.241592653589793, step=0.01),))"
      ]
     },
     "metadata": {},
     "output_type": "display_data"
    },
    {
     "data": {
      "application/vnd.jupyter.widget-view+json": {
       "model_id": "3a484c903faa455fada59897b9c3088e",
       "version_major": 2,
       "version_minor": 0
      },
      "text/plain": [
       "Output()"
      ]
     },
     "metadata": {},
     "output_type": "display_data"
    }
   ],
   "source": [
    "# Here given that the camera will point to the \"data center\", we turn the camera around said center at a distance of 200m\n",
    "def interactive_render(points, labels):\n",
    "    # Define sliders for rotation angles\n",
    "    angle_slider = widgets.FloatSlider(value=-2, min=-1.1-np.pi,  max=-1.1, step=.01, description='Angle')\n",
    "    \n",
    "    # Link sliders to the rendering function\n",
    "    ui = widgets.VBox([angle_slider])\n",
    "    \n",
    "    def update_view(angle):\n",
    "        mag = 200\n",
    "        render_2d_pinhole_view(points, labels, (data_center[0]+np.cos(angle)*mag, data_center[1]+np.sin(angle)*mag, 10), data_center)\n",
    "    \n",
    "    out = widgets.interactive_output(update_view, {'angle': angle_slider})\n",
    "    \n",
    "    display(ui, out)\n",
    "\n",
    "interactive_render(points, labels)"
   ]
  },
  {
   "cell_type": "code",
   "execution_count": 13,
   "id": "b2497a3a-52e9-4da5-aed7-3afd88a9ca46",
   "metadata": {},
   "outputs": [
    {
     "data": {
      "application/vnd.jupyter.widget-view+json": {
       "model_id": "158a89398b9a434f9977080c6b42701e",
       "version_major": 2,
       "version_minor": 0
      },
      "text/plain": [
       "VBox(children=(FloatSlider(value=1.0, description='Zoom', max=5.0, min=0.5, step=0.01),))"
      ]
     },
     "metadata": {},
     "output_type": "display_data"
    },
    {
     "data": {
      "application/vnd.jupyter.widget-view+json": {
       "model_id": "b1053fd2940f4a3397c6bc4cd0cbe005",
       "version_major": 2,
       "version_minor": 0
      },
      "text/plain": [
       "Output()"
      ]
     },
     "metadata": {},
     "output_type": "display_data"
    }
   ],
   "source": [
    "# Here given that a fixed camera position, we have a widget for the focal length to zoom in and out\n",
    "def interactive_render(points, labels):\n",
    "    # Define sliders for rotation angles\n",
    "    focal_slider = widgets.FloatSlider(value=1, min=.5, max=5, step=.01, description='Zoom')\n",
    "    \n",
    "    # Link sliders to the rendering function\n",
    "    ui = widgets.VBox([focal_slider])\n",
    "    \n",
    "    def update_view(focal_length):\n",
    "        render_2d_pinhole_view(points, labels, camera_position, data_center, focal_length)\n",
    "    \n",
    "    out = widgets.interactive_output(update_view, {'focal_length': focal_slider})\n",
    "    \n",
    "    display(ui, out)\n",
    "\n",
    "interactive_render(points, labels)"
   ]
  },
  {
   "cell_type": "markdown",
   "id": "88b2c3ab-52d8-4c66-a5be-97fb7dddda18",
   "metadata": {},
   "source": [
    "#### Generating videos "
   ]
  },
  {
   "cell_type": "code",
   "execution_count": 14,
   "id": "0a411e8a-18a0-49cc-8bf4-7e5485d0a6c2",
   "metadata": {},
   "outputs": [],
   "source": [
    "def generate_frame_pinhole(fig, ax, points, labels, camera_position, target_position, focal_length=1.0):\n",
    "    # Clear axis for a fresh frame\n",
    "    ax.cla()\n",
    "\n",
    "    # Create the camera rotation matrix\n",
    "    up_vector = np.array([0, 0, 1])\n",
    "    camera_rotation = compute_rotation_matrix(camera_position, target_position, up_vector)\n",
    "    \n",
    "    # Project the 3D points onto the 2D plane using pinhole model\n",
    "    projected_points, _ = pinhole_projection(points, camera_position, camera_rotation, focal_length)\n",
    "    \n",
    "    # Get colors for each label\n",
    "    colors = label_to_color(labels)\n",
    "    \n",
    "    # Plot the 2D points\n",
    "    ax.scatter(projected_points[:, 0], projected_points[:, 1], c=colors, s=5, alpha=0.6)\n",
    "    ax.set_xlabel(\"x'\")\n",
    "    ax.set_ylabel(\"y'\")\n",
    "    ax.set_xticks([])\n",
    "    ax.set_yticks([])\n",
    "    ax.set_ylim(-0.1, 0.2)\n",
    "    ax.set_xlim(-0.8, 0.3)\n",
    "    ax.set_title('Pinhole Camera Model')"
   ]
  },
  {
   "cell_type": "code",
   "execution_count": 15,
   "id": "8450d25d-285a-4e12-b77a-d16667b42220",
   "metadata": {},
   "outputs": [],
   "source": [
    "def varying_camera_position_frames(camera_positions, output_name):\n",
    "    # Output directory for frames\n",
    "    output_dir = 'frames'\n",
    "    os.makedirs(output_dir, exist_ok=True)\n",
    "    frame_paths = []\n",
    "    \n",
    "    # Step 1: Generate frames and save as images\n",
    "    fig, ax = plt.subplots(figsize=(8, 8))\n",
    "    \n",
    "    for i in tqdm(range(len(camera_positions))):\n",
    "        generate_frame_pinhole(\n",
    "            fig, ax,\n",
    "            points, labels,\n",
    "            camera_positions[i],\n",
    "            data_center,\n",
    "            focal_length=1\n",
    "        )\n",
    "    \n",
    "        # Save the frame as an image\n",
    "        filepath = os.path.join(output_dir, f'frame_{output_name}_{i:03d}.png')\n",
    "        fig.savefig(filepath)\n",
    "        frame_paths.append(filepath)\n",
    "    \n",
    "    plt.close(fig)  # Close the figure after generating frames\n",
    "    \n",
    "    return frame_paths\n",
    "\n",
    "def varying_camera_position_video(frame_paths, output_name):\n",
    "    # Step 2: Combine frames into a video\n",
    "    video_path = f'{output_name}_video.mp4'\n",
    "    with imageio.get_writer(video_path, fps=18) as writer:\n",
    "        for image_path in frame_paths:\n",
    "            image = imageio.imread(image_path)\n",
    "            writer.append_data(image)\n",
    "    \n",
    "    print(f\"Video saved at {video_path}\")"
   ]
  },
  {
   "cell_type": "code",
   "execution_count": null,
   "id": "5a36fa0e-1851-46a6-aef0-1741e8956522",
   "metadata": {},
   "outputs": [],
   "source": [
    "# Moving camera up/down video\n",
    "output_name = \"up_down\"\n",
    "camera_positions = [camera_position+np.array([0,0,h]) for h in range(100)]\n",
    "frame_paths = varying_camera_position_frames(camera_positions, output_name)\n",
    "varying_camera_position_video(frame_paths, output_name)"
   ]
  },
  {
   "cell_type": "code",
   "execution_count": null,
   "id": "25c43d1c-1e4d-4963-9c21-206bc97ce87c",
   "metadata": {},
   "outputs": [],
   "source": [
    "# Moving around cluster video\n",
    "output_name = \"circling\"\n",
    "\n",
    "camera_positions = [(data_center[0]+np.cos(angle/100)*200, data_center[1]+np.sin(angle/100)*200, 10) for angle in range(-424, -11, 4)]\n",
    "frame_paths = varying_camera_position_frames(camera_positions, output_name)\n",
    "varying_camera_position_video(frame_paths, output_name)"
   ]
  },
  {
   "cell_type": "code",
   "execution_count": null,
   "id": "4758636e-4184-47e1-87ff-3bd959ba319c",
   "metadata": {},
   "outputs": [],
   "source": [
    "# Zooming in and out video\n",
    "def varying_focal_length_frames(focal_lengths, output_name):\n",
    "    # Output directory for frames\n",
    "    output_dir = 'frames'\n",
    "    os.makedirs(output_dir, exist_ok=True)\n",
    "    frame_paths = []\n",
    "    \n",
    "    # Step 1: Generate frames and save as images\n",
    "    fig, ax = plt.subplots(figsize=(8, 8))\n",
    "    \n",
    "    for i in tqdm(range(len(focal_lengths))):\n",
    "        generate_frame_pinhole(\n",
    "            fig, ax,\n",
    "            points, labels,\n",
    "            camera_position,\n",
    "            data_center,\n",
    "            focal_length=focal_lengths[i]\n",
    "        )\n",
    "    \n",
    "        # Save the frame as an image\n",
    "        filepath = os.path.join(output_dir, f'frame_{output_name}_{i:03d}.png')\n",
    "        fig.savefig(filepath)\n",
    "        frame_paths.append(filepath)\n",
    "    \n",
    "    plt.close(fig)  # Close the figure after generating frames\n",
    "    \n",
    "    return frame_paths\n",
    "\n",
    "# Actually generating the video\n",
    "output_name = \"zooming\"\n",
    "focal_lengths = [fl/100 for fl in range(1, 100)]+[fl/10 for fl in range(10, 50)]\n",
    "frame_paths = varying_focal_length_frames(focal_lengths, output_name)\n",
    "varying_camera_position_video(frame_paths, output_name)"
   ]
  },
  {
   "cell_type": "markdown",
   "id": "cf982697-2fe7-43a4-afe6-aadaa69a0435",
   "metadata": {},
   "source": [
    "# Rendering 3D points as a 2D image (pixelated), not scatter plot"
   ]
  },
  {
   "cell_type": "code",
   "execution_count": 20,
   "id": "2ad345e9-edaa-4c9f-a9a6-32d0e2792466",
   "metadata": {},
   "outputs": [],
   "source": [
    "def render_pixelated_pinhole_view(points, colors, camera_position, target_position, focal_length=1.0, grid_size=(200, 200)):\n",
    "    # Create the camera rotation matrix\n",
    "    up_vector = np.array([0, 0, 1])\n",
    "    camera_rotation = compute_rotation_matrix(camera_position, target_position, up_vector)\n",
    "\n",
    "    # Project the 3D points onto the 2D plane using pinhole model\n",
    "    projected_points, dists = pinhole_projection(points, camera_position, camera_rotation, focal_length)\n",
    "\n",
    "    # Create a blank color image for pixelated view\n",
    "    pixelated_image = np.full((*grid_size, 3), fill_value=255)  # White background\n",
    "\n",
    "    # Create a distance matrix to track closest points\n",
    "    pixel_distances = np.full(grid_size, np.inf)\n",
    "\n",
    "    min_x, max_x, min_y, max_y = -.8, .3, -.1, 0.2\n",
    "    # Map projected points to pixel locations\n",
    "    for point, col, dist in zip(projected_points, colors, labels):\n",
    "        # Transforming x,y coordinate to a pizel\n",
    "        x_pixel = int((point[0]-min_x) * grid_size[1]/(max_x-min_x)) \n",
    "        y_pixel = int((max_y-point[1]) * grid_size[0]/(max_y-min_y))\n",
    "\n",
    "        # Check boundaries\n",
    "        if 0 <= x_pixel < grid_size[1] and 0 <= y_pixel < grid_size[0]:\n",
    "            # Check if this point is closer\n",
    "            if dist < pixel_distances[y_pixel, x_pixel]:\n",
    "                pixel_distances[y_pixel, x_pixel] = dist\n",
    "                pixelated_image[y_pixel, x_pixel] = col*255  # Use the color of the nearest point\n",
    "\n",
    "    # Plot the pixelated image\n",
    "    plt.figure(figsize=(8, 8))\n",
    "    plt.imshow(pixelated_image.astype(np.uint8))\n",
    "    plt.axis('off')  # Hide axis values\n",
    "    plt.title('Pixelated Pinhole Camera Model')\n",
    "    plt.show()"
   ]
  },
  {
   "cell_type": "code",
   "execution_count": 21,
   "id": "dccae7ca-0e11-42c3-9cd5-cbca48d0bdbc",
   "metadata": {},
   "outputs": [
    {
     "data": {
      "image/png": "[encoded data removed]",
      "text/plain": [
       "<Figure size 800x800 with 1 Axes>"
      ]
     },
     "metadata": {},
     "output_type": "display_data"
    }
   ],
   "source": [
    "render_pixelated_pinhole_view(points, colors, camera_position, data_center,focal_length=0.9)"
   ]
  },
  {
   "cell_type": "code",
   "execution_count": 22,
   "id": "96bd379f-77bd-4aad-b060-3cbadaeb1684",
   "metadata": {},
   "outputs": [
    {
     "data": {
      "application/vnd.jupyter.widget-view+json": {
       "model_id": "00f28ed7cdfe4843bbfb3cf729b4c3f3",
       "version_major": 2,
       "version_minor": 0
      },
      "text/plain": [
       "VBox(children=(FloatSlider(value=1.0, description='Focal', max=5.0, min=0.5, step=0.01), FloatSlider(value=20.…"
      ]
     },
     "metadata": {},
     "output_type": "display_data"
    },
    {
     "data": {
      "application/vnd.jupyter.widget-view+json": {
       "model_id": "73312546991944d19fd6139a8902516c",
       "version_major": 2,
       "version_minor": 0
      },
      "text/plain": [
       "Output()"
      ]
     },
     "metadata": {},
     "output_type": "display_data"
    }
   ],
   "source": [
    "# Magic widget to move everywhere\n",
    "def interactive_render(points, labels):\n",
    "    # Define sliders\n",
    "    focal_slider = widgets.FloatSlider(value=1, min=.5, max=5, step=.01, description='Focal')\n",
    "    height_slider = widgets.FloatSlider(value=20, min=0, max=150, step=1, description='Height')\n",
    "    angle_slider = widgets.FloatSlider(value=-3, min=-1.1-np.pi,  max=-1.1, step=.01, description='Angle')\n",
    "\n",
    "    # Link sliders to the rendering function\n",
    "    ui = widgets.VBox([focal_slider, height_slider, angle_slider])\n",
    "    \n",
    "    def update_view(focal_length, height, angle):\n",
    "        height=np.array([0,0,height])\n",
    "        temp_camera_position =  (data_center[0]+np.cos(angle)*200, data_center[1]+np.sin(angle)*200, 0)\n",
    "        render_pixelated_pinhole_view(points, colors, temp_camera_position+height, data_center, focal_length)\n",
    "    \n",
    "    out = widgets.interactive_output(update_view, {'focal_length': focal_slider, 'height':height_slider, 'angle': angle_slider})\n",
    "    \n",
    "    display(ui, out)    \n",
    "    \n",
    "interactive_render(points, labels)"
   ]
  },
  {
   "cell_type": "markdown",
   "id": "9bd6b090-2788-4121-93e2-70f734eebfd5",
   "metadata": {},
   "source": [
    "# Finally! Depth sensor modeling"
   ]
  },
  {
   "cell_type": "code",
   "execution_count": 7,
   "id": "b2e11048-433b-4169-85da-6136061f2ac5",
   "metadata": {},
   "outputs": [],
   "source": [
    "def render_depth_sensor(points, camera_position, target_position, focal_length=1.0, grid_size=(200, 200)):\n",
    "    # Create the camera rotation matrix\n",
    "    up_vector = np.array([0, 0, 1])\n",
    "    camera_rotation = compute_rotation_matrix(camera_position, target_position, up_vector)\n",
    "\n",
    "    # Project the 3D points onto the 2D plane using pinhole model\n",
    "    projected_points, dists = pinhole_projection(points, camera_position, camera_rotation, focal_length)\n",
    "\n",
    "    # Create a blank color image for pixelated view\n",
    "    pixelated_image = np.full(grid_size, fill_value=np.inf)\n",
    "\n",
    "    min_x, max_x, min_y, max_y = -0.8, 0.3, -0.1, 0.2\n",
    "\n",
    "    # Map projected points to pixel locations\n",
    "    for point, dist in zip(projected_points, dists):\n",
    "        # Transforming x,y coordinates to a pixel\n",
    "        x_pixel = int((point[0] - min_x) * grid_size[1] / (max_x - min_x)) \n",
    "        y_pixel = int((point[1] - min_y) * grid_size[0] / (max_y - min_y))\n",
    "\n",
    "        # Check boundaries\n",
    "        if 0 <= x_pixel < grid_size[1] and 0 <= y_pixel < grid_size[0]:\n",
    "            # Check if this point is closer\n",
    "            if dist < pixelated_image[y_pixel, x_pixel]:\n",
    "                pixelated_image[y_pixel, x_pixel] = dist\n",
    "\n",
    "    # Mask the infinite values\n",
    "    masked_image = np.ma.masked_invalid(pixelated_image)\n",
    "\n",
    "    # Normalize only the finite (non-infinite) values\n",
    "    min_distance = masked_image.min()\n",
    "    max_distance = masked_image.max()\n",
    "    normalized_image = (masked_image - min_distance) / (max_distance - min_distance)\n",
    "\n",
    "    # Set up the colormap with white for masked values (inf)\n",
    "    cmap = plt.cm.inferno\n",
    "    cmap.set_bad(color='white')\n",
    "\n",
    "    # Plot the normalized pixelated image\n",
    "    plt.figure(figsize=(8, 8))\n",
    "    plt.imshow(-normalized_image, cmap=cmap, interpolation='nearest', origin='lower')\n",
    "    plt.axis('off') \n",
    "    plt.title('Depth Sensor Model')\n",
    "    plt.show()"
   ]
  },
  {
   "cell_type": "code",
   "execution_count": 17,
   "id": "c8898ce3-ec12-4d1b-8110-acebe2571b76",
   "metadata": {},
   "outputs": [
    {
     "data": {
      "image/png": "[encoded data removed]",
      "text/plain": [
       "<Figure size 800x800 with 1 Axes>"
      ]
     },
     "metadata": {},
     "output_type": "display_data"
    }
   ],
   "source": [
    "# Ligter colors are closer to us and darker colors are further\n",
    "render_depth_sensor(points, camera_position, data_center, focal_length=.7)"
   ]
  },
  {
   "cell_type": "code",
   "execution_count": 18,
   "id": "5e978069-c12c-43ef-93f1-09df273737f0",
   "metadata": {},
   "outputs": [
    {
     "data": {
      "application/vnd.jupyter.widget-view+json": {
       "model_id": "65c33ac563f644d0bb5630d51595aab0",
       "version_major": 2,
       "version_minor": 0
      },
      "text/plain": [
       "VBox(children=(FloatSlider(value=1.0, description='Focal', max=5.0, min=0.5, step=0.01), FloatSlider(value=20.…"
      ]
     },
     "metadata": {},
     "output_type": "display_data"
    },
    {
     "data": {
      "application/vnd.jupyter.widget-view+json": {
       "model_id": "a66d0c6e537d4c67b8c6528ad8ca572c",
       "version_major": 2,
       "version_minor": 0
      },
      "text/plain": [
       "Output()"
      ]
     },
     "metadata": {},
     "output_type": "display_data"
    }
   ],
   "source": [
    "# Magic widget to move everywhere\n",
    "def interactive_render(points, labels):\n",
    "    # Define sliders\n",
    "    focal_slider = widgets.FloatSlider(value=1, min=.5, max=5, step=.01, description='Focal')\n",
    "    height_slider = widgets.FloatSlider(value=20, min=0, max=150, step=1, description='Height')\n",
    "    angle_slider = widgets.FloatSlider(value=-3, min=-1.1-np.pi,  max=-1.1, step=.01, description='Angle')\n",
    "\n",
    "    # Link sliders to the rendering function\n",
    "    ui = widgets.VBox([focal_slider, height_slider, angle_slider])\n",
    "    \n",
    "    def update_view(focal_length, height, angle):\n",
    "        height=np.array([0,0,height])\n",
    "        temp_camera_position =  (data_center[0]+np.cos(angle)*200, data_center[1]+np.sin(angle)*200, 0)\n",
    "        render_depth_sensor(points, temp_camera_position+height, data_center, focal_length)\n",
    "    \n",
    "    out = widgets.interactive_output(update_view, {'focal_length': focal_slider, 'height':height_slider, 'angle': angle_slider})\n",
    "    \n",
    "    display(ui, out)    \n",
    "    \n",
    "interactive_render(points, labels)"
   ]
  },
  {
   "cell_type": "code",
   "execution_count": null,
   "id": "62995a32-cd7f-4936-a968-ee66f4433386",
   "metadata": {},
   "outputs": [],
   "source": []
  }
 ],
 "metadata": {
  "kernelspec": {
   "display_name": "Python 3 (ipykernel)",
   "language": "python",
   "name": "python3"
  },
  "language_info": {
   "codemirror_mode": {
    "name": "ipython",
    "version": 3
   },
   "file_extension": ".py",
   "mimetype": "text/x-python",
   "name": "python",
   "nbconvert_exporter": "python",
   "pygments_lexer": "ipython3",
   "version": "3.11.1"
  }
 },
 "nbformat": 4,
 "nbformat_minor": 5
}
